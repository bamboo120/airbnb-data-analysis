{
 "cells": [
  {
   "cell_type": "code",
   "execution_count": 1,
   "metadata": {},
   "outputs": [],
   "source": [
    "import numpy as np\n",
    "import pandas as pd\n",
    "import matplotlib.pyplot as plt\n",
    "from sklearn.linear_model import LinearRegression\n",
    "from sklearn.model_selection import train_test_split\n",
    "from sklearn.metrics import r2_score, mean_squared_error\n",
    "import seaborn as sns\n",
    "%matplotlib inline"
   ]
  },
  {
   "cell_type": "code",
   "execution_count": 16,
   "metadata": {},
   "outputs": [],
   "source": [
    "#read in data, and figure out the feathers affect review score rating\n",
    "dflb = pd.read_csv('list_boston.csv')"
   ]
  },
  {
   "cell_type": "code",
   "execution_count": 17,
   "metadata": {},
   "outputs": [],
   "source": [
    "dflb = dflb[['id','cancellation_policy','guests_included','host_response_time','host_response_rate','host_acceptance_rate','host_has_profile_pic','host_identity_verified','room_type','accommodates','bathrooms','bedrooms','beds','bed_type','price','number_of_reviews','review_scores_rating','instant_bookable','reviews_per_month','review_scores_value','review_scores_location','review_scores_communication','review_scores_checkin','review_scores_cleanliness','review_scores_accuracy']]"
   ]
  },
  {
   "cell_type": "code",
   "execution_count": 18,
   "metadata": {},
   "outputs": [],
   "source": [
    "# update data become float\n",
    "dflb['price'] = dflb['price'].str.replace('$','')\n",
    "dflb['price'] = dflb['price'].str.replace(',','')\n",
    "dflb['price'] = dflb.price.astype(float)\n",
    "dflb['host_response_rate'] = dflb['host_response_rate'].str.replace('%','')\n",
    "dflb['host_response_rate'] = dflb.host_response_rate.astype(float)\n",
    "dflb['host_acceptance_rate'] = dflb['host_acceptance_rate'].str.replace('%','')\n",
    "dflb['host_acceptance_rate'] = dflb.host_acceptance_rate.astype(float)\n",
    "dflb = dflb.drop(['id'],axis=1)"
   ]
  },
  {
   "cell_type": "code",
   "execution_count": 65,
   "metadata": {},
   "outputs": [],
   "source": [
    "dflb_a = dflb"
   ]
  },
  {
   "cell_type": "code",
   "execution_count": 66,
   "metadata": {},
   "outputs": [],
   "source": [
    "# we need to predict the review score rating, so it should has value\n",
    "dflb_a = dflb_a.dropna(subset=['review_scores_rating'])"
   ]
  },
  {
   "cell_type": "code",
   "execution_count": 67,
   "metadata": {},
   "outputs": [
    {
     "data": {
      "text/plain": [
       "2772"
      ]
     },
     "execution_count": 67,
     "metadata": {},
     "output_type": "execute_result"
    }
   ],
   "source": [
    "dflb_a.shape[0]"
   ]
  },
  {
   "cell_type": "code",
   "execution_count": 68,
   "metadata": {},
   "outputs": [
    {
     "name": "stderr",
     "output_type": "stream",
     "text": [
      "/Users/bamboo/Library/Python/3.6/lib/python/site-packages/pandas/core/series.py:4536: SettingWithCopyWarning: \n",
      "A value is trying to be set on a copy of a slice from a DataFrame\n",
      "\n",
      "See the caveats in the documentation: https://pandas.pydata.org/pandas-docs/stable/user_guide/indexing.html#returning-a-view-versus-a-copy\n",
      "  downcast=downcast,\n"
     ]
    }
   ],
   "source": [
    "# use mean value to fill nan for int and float data\n",
    "num_vars = dflb_a.select_dtypes(include=['float', 'int']).columns\n",
    "for col in num_vars:\n",
    "    dflb_a[col].fillna((dflb_a[col].mean()), inplace=True)"
   ]
  },
  {
   "cell_type": "code",
   "execution_count": 69,
   "metadata": {},
   "outputs": [],
   "source": [
    "Xb = dflb_a.drop(['review_scores_rating'],axis=1)\n",
    "yb=dflb_a['review_scores_rating']"
   ]
  },
  {
   "cell_type": "code",
   "execution_count": 70,
   "metadata": {},
   "outputs": [],
   "source": [
    "#get dummy\n",
    "cat_vars = Xb.select_dtypes(include=['object']).copy().columns\n",
    "for var in  cat_vars:\n",
    "    Xb = pd.concat([Xb.drop(var, axis=1), pd.get_dummies(Xb[var], prefix=var, prefix_sep='_', drop_first=True)], axis=1)\n",
    "    \n"
   ]
  },
  {
   "cell_type": "code",
   "execution_count": 71,
   "metadata": {},
   "outputs": [
    {
     "data": {
      "text/plain": [
       "guests_included                            4112.000000\n",
       "host_response_rate                       265070.327586\n",
       "host_acceptance_rate                     235973.017241\n",
       "accommodates                               8485.000000\n",
       "bathrooms                                  3367.578261\n",
       "bedrooms                                   3467.756962\n",
       "beds                                       4504.750542\n",
       "price                                    462049.000000\n",
       "number_of_reviews                         68210.000000\n",
       "reviews_per_month                          5547.720000\n",
       "review_scores_value                       25417.524430\n",
       "review_scores_location                    26095.138306\n",
       "review_scores_communication               26741.882863\n",
       "review_scores_checkin                     26739.169320\n",
       "review_scores_cleanliness                 25662.546638\n",
       "review_scores_accuracy                    26143.745020\n",
       "cancellation_policy_moderate                786.000000\n",
       "cancellation_policy_strict                 1279.000000\n",
       "cancellation_policy_super_strict_30          68.000000\n",
       "host_response_time_within a day             381.000000\n",
       "host_response_time_within a few hours       977.000000\n",
       "host_response_time_within an hour          1172.000000\n",
       "host_has_profile_pic_t                     2765.000000\n",
       "host_identity_verified_t                   2127.000000\n",
       "room_type_Private room                     1078.000000\n",
       "room_type_Shared room                        53.000000\n",
       "bed_type_Couch                                6.000000\n",
       "bed_type_Futon                               48.000000\n",
       "bed_type_Pull-out Sofa                       27.000000\n",
       "bed_type_Real Bed                          2662.000000\n",
       "instant_bookable_t                          475.000000\n",
       "dtype: float64"
      ]
     },
     "execution_count": 71,
     "metadata": {},
     "output_type": "execute_result"
    }
   ],
   "source": [
    "Xb.sum()"
   ]
  },
  {
   "cell_type": "code",
   "execution_count": 72,
   "metadata": {},
   "outputs": [
    {
     "data": {
      "text/plain": [
       "'The r-squared score for the model using only quantitative variables was 0.7158221019128446 on 832 values.'"
      ]
     },
     "execution_count": 72,
     "metadata": {},
     "output_type": "execute_result"
    }
   ],
   "source": [
    "reduce_Xb = Xb.iloc[:, np.where((Xb.sum() > 50) == True)[0]]\n",
    "X_train, X_test, y_train, y_test = train_test_split(reduce_Xb, yb, test_size = .30, random_state=42) \n",
    "lm_model = LinearRegression(normalize=True) # Instantiate\n",
    "lm_model.fit(X_train, y_train) #Fit\n",
    "        \n",
    "#Predict and score the model\n",
    "y_test_preds = lm_model.predict(X_test) \n",
    "\"The r-squared score for the model using only quantitative variables was {} on {} values.\".format(r2_score(y_test, y_test_preds), len(y_test))"
   ]
  },
  {
   "cell_type": "code",
   "execution_count": 74,
   "metadata": {},
   "outputs": [
    {
     "data": {
      "text/html": [
       "<div>\n",
       "<style scoped>\n",
       "    .dataframe tbody tr th:only-of-type {\n",
       "        vertical-align: middle;\n",
       "    }\n",
       "\n",
       "    .dataframe tbody tr th {\n",
       "        vertical-align: top;\n",
       "    }\n",
       "\n",
       "    .dataframe thead th {\n",
       "        text-align: right;\n",
       "    }\n",
       "</style>\n",
       "<table border=\"1\" class=\"dataframe\">\n",
       "  <thead>\n",
       "    <tr style=\"text-align: right;\">\n",
       "      <th></th>\n",
       "      <th>est_int</th>\n",
       "      <th>coefs</th>\n",
       "      <th>abs_coefs</th>\n",
       "    </tr>\n",
       "  </thead>\n",
       "  <tbody>\n",
       "    <tr>\n",
       "      <th>10</th>\n",
       "      <td>review_scores_value</td>\n",
       "      <td>2.967596</td>\n",
       "      <td>2.967596</td>\n",
       "    </tr>\n",
       "    <tr>\n",
       "      <th>14</th>\n",
       "      <td>review_scores_cleanliness</td>\n",
       "      <td>2.669329</td>\n",
       "      <td>2.669329</td>\n",
       "    </tr>\n",
       "    <tr>\n",
       "      <th>13</th>\n",
       "      <td>review_scores_checkin</td>\n",
       "      <td>1.641381</td>\n",
       "      <td>1.641381</td>\n",
       "    </tr>\n",
       "    <tr>\n",
       "      <th>12</th>\n",
       "      <td>review_scores_communication</td>\n",
       "      <td>1.620325</td>\n",
       "      <td>1.620325</td>\n",
       "    </tr>\n",
       "    <tr>\n",
       "      <th>15</th>\n",
       "      <td>review_scores_accuracy</td>\n",
       "      <td>1.431030</td>\n",
       "      <td>1.431030</td>\n",
       "    </tr>\n",
       "    <tr>\n",
       "      <th>19</th>\n",
       "      <td>host_response_time_within a day</td>\n",
       "      <td>0.906295</td>\n",
       "      <td>0.906295</td>\n",
       "    </tr>\n",
       "    <tr>\n",
       "      <th>22</th>\n",
       "      <td>host_has_profile_pic_t</td>\n",
       "      <td>0.749227</td>\n",
       "      <td>0.749227</td>\n",
       "    </tr>\n",
       "    <tr>\n",
       "      <th>11</th>\n",
       "      <td>review_scores_location</td>\n",
       "      <td>0.649955</td>\n",
       "      <td>0.649955</td>\n",
       "    </tr>\n",
       "    <tr>\n",
       "      <th>20</th>\n",
       "      <td>host_response_time_within a few hours</td>\n",
       "      <td>0.627914</td>\n",
       "      <td>0.627914</td>\n",
       "    </tr>\n",
       "    <tr>\n",
       "      <th>21</th>\n",
       "      <td>host_response_time_within an hour</td>\n",
       "      <td>0.570289</td>\n",
       "      <td>0.570289</td>\n",
       "    </tr>\n",
       "    <tr>\n",
       "      <th>26</th>\n",
       "      <td>bed_type_Real Bed</td>\n",
       "      <td>0.550476</td>\n",
       "      <td>0.550476</td>\n",
       "    </tr>\n",
       "    <tr>\n",
       "      <th>18</th>\n",
       "      <td>cancellation_policy_super_strict_30</td>\n",
       "      <td>0.521032</td>\n",
       "      <td>0.521032</td>\n",
       "    </tr>\n",
       "    <tr>\n",
       "      <th>23</th>\n",
       "      <td>host_identity_verified_t</td>\n",
       "      <td>0.487742</td>\n",
       "      <td>0.487742</td>\n",
       "    </tr>\n",
       "    <tr>\n",
       "      <th>24</th>\n",
       "      <td>room_type_Private room</td>\n",
       "      <td>0.484772</td>\n",
       "      <td>0.484772</td>\n",
       "    </tr>\n",
       "    <tr>\n",
       "      <th>17</th>\n",
       "      <td>cancellation_policy_strict</td>\n",
       "      <td>-0.361944</td>\n",
       "      <td>0.361944</td>\n",
       "    </tr>\n",
       "    <tr>\n",
       "      <th>5</th>\n",
       "      <td>bedrooms</td>\n",
       "      <td>0.244060</td>\n",
       "      <td>0.244060</td>\n",
       "    </tr>\n",
       "    <tr>\n",
       "      <th>25</th>\n",
       "      <td>room_type_Shared room</td>\n",
       "      <td>0.181891</td>\n",
       "      <td>0.181891</td>\n",
       "    </tr>\n",
       "    <tr>\n",
       "      <th>3</th>\n",
       "      <td>accommodates</td>\n",
       "      <td>-0.165841</td>\n",
       "      <td>0.165841</td>\n",
       "    </tr>\n",
       "    <tr>\n",
       "      <th>9</th>\n",
       "      <td>reviews_per_month</td>\n",
       "      <td>-0.161395</td>\n",
       "      <td>0.161395</td>\n",
       "    </tr>\n",
       "    <tr>\n",
       "      <th>6</th>\n",
       "      <td>beds</td>\n",
       "      <td>0.122528</td>\n",
       "      <td>0.122528</td>\n",
       "    </tr>\n",
       "  </tbody>\n",
       "</table>\n",
       "</div>"
      ],
      "text/plain": [
       "                                  est_int     coefs  abs_coefs\n",
       "10                    review_scores_value  2.967596   2.967596\n",
       "14              review_scores_cleanliness  2.669329   2.669329\n",
       "13                  review_scores_checkin  1.641381   1.641381\n",
       "12            review_scores_communication  1.620325   1.620325\n",
       "15                 review_scores_accuracy  1.431030   1.431030\n",
       "19        host_response_time_within a day  0.906295   0.906295\n",
       "22                 host_has_profile_pic_t  0.749227   0.749227\n",
       "11                 review_scores_location  0.649955   0.649955\n",
       "20  host_response_time_within a few hours  0.627914   0.627914\n",
       "21      host_response_time_within an hour  0.570289   0.570289\n",
       "26                      bed_type_Real Bed  0.550476   0.550476\n",
       "18    cancellation_policy_super_strict_30  0.521032   0.521032\n",
       "23               host_identity_verified_t  0.487742   0.487742\n",
       "24                 room_type_Private room  0.484772   0.484772\n",
       "17             cancellation_policy_strict -0.361944   0.361944\n",
       "5                                bedrooms  0.244060   0.244060\n",
       "25                  room_type_Shared room  0.181891   0.181891\n",
       "3                            accommodates -0.165841   0.165841\n",
       "9                       reviews_per_month -0.161395   0.161395\n",
       "6                                    beds  0.122528   0.122528"
      ]
     },
     "execution_count": 74,
     "metadata": {},
     "output_type": "execute_result"
    }
   ],
   "source": [
    "#see the top feathers affect review\n",
    "def coef_weights(coefficients, X_train):\n",
    "    '''\n",
    "    INPUT:\n",
    "    coefficients - the coefficients of the linear model \n",
    "    X_train - the training data, so the column names can be used\n",
    "    OUTPUT:\n",
    "    coefs_df - a dataframe holding the coefficient, estimate, and abs(estimate)\n",
    "    \n",
    "    Provides a dataframe that can be used to understand the most influential coefficients\n",
    "    in a linear model by providing the coefficient estimates along with the name of the \n",
    "    variable attached to the coefficient.\n",
    "    '''\n",
    "    coefs_df = pd.DataFrame()\n",
    "    coefs_df['est_int'] = X_train.columns\n",
    "    coefs_df['coefs'] = lm_model.coef_\n",
    "    coefs_df['abs_coefs'] = np.abs(lm_model.coef_)\n",
    "    coefs_df = coefs_df.sort_values('abs_coefs', ascending=False)\n",
    "    return coefs_df\n",
    "\n",
    "#Use the function\n",
    "coef_df = coef_weights(lm_model.coef_, X_train)\n",
    "\n",
    "#A quick look at the top results\n",
    "coef_df.head(20)"
   ]
  },
  {
   "cell_type": "code",
   "execution_count": 88,
   "metadata": {},
   "outputs": [],
   "source": [
    "#do the same thing for seattle data\n",
    "dfls = pd.read_csv('list_seattle.csv')"
   ]
  },
  {
   "cell_type": "code",
   "execution_count": 89,
   "metadata": {},
   "outputs": [],
   "source": [
    "dfls = dfls[['id','cancellation_policy','guests_included','host_response_time','host_response_rate','host_acceptance_rate','host_has_profile_pic','host_identity_verified','room_type','accommodates','bathrooms','bedrooms','beds','bed_type','price','number_of_reviews','review_scores_rating','instant_bookable','reviews_per_month','review_scores_value','review_scores_location','review_scores_communication','review_scores_checkin','review_scores_cleanliness','review_scores_accuracy']]"
   ]
  },
  {
   "cell_type": "code",
   "execution_count": 90,
   "metadata": {},
   "outputs": [],
   "source": [
    "dfls['price'] = dfls['price'].str.replace('$','')\n",
    "dfls['price'] = dfls['price'].str.replace(',','')\n",
    "dfls['price'] = dfls.price.astype(float)\n",
    "dfls['host_response_rate'] = dfls['host_response_rate'].str.replace('%','')\n",
    "dfls['host_response_rate'] = dfls.host_response_rate.astype(float)\n",
    "dfls['host_acceptance_rate'] = dfls['host_acceptance_rate'].str.replace('%','')\n",
    "dfls['host_acceptance_rate'] = dfls.host_acceptance_rate.astype(float)\n",
    "dfls = dfls.drop(['id'],axis=1)"
   ]
  },
  {
   "cell_type": "code",
   "execution_count": 99,
   "metadata": {},
   "outputs": [],
   "source": [
    "dfls_a = dfls"
   ]
  },
  {
   "cell_type": "code",
   "execution_count": 100,
   "metadata": {},
   "outputs": [],
   "source": [
    "num_vars = dfls_a.select_dtypes(include=['float', 'int']).columns\n",
    "for col in num_vars:\n",
    "    dfls_a[col].fillna((dfls_a[col].mean()), inplace=True)"
   ]
  },
  {
   "cell_type": "code",
   "execution_count": 101,
   "metadata": {},
   "outputs": [],
   "source": [
    "Xs = dfls_a.drop(['review_scores_rating'],axis=1)\n",
    "ys=dfls_a['review_scores_rating']"
   ]
  },
  {
   "cell_type": "code",
   "execution_count": 102,
   "metadata": {},
   "outputs": [],
   "source": [
    "cat_vars = Xs.select_dtypes(include=['object']).copy().columns\n",
    "for var in  cat_vars:\n",
    "    Xs = pd.concat([Xs.drop(var, axis=1), pd.get_dummies(Xs[var], prefix=var, prefix_sep='_', drop_first=True)], axis=1)\n",
    "    \n",
    "\n"
   ]
  },
  {
   "cell_type": "code",
   "execution_count": 107,
   "metadata": {},
   "outputs": [
    {
     "data": {
      "text/plain": [
       "'The r-squared score for the model using only quantitative variables was 0.6188254195503238 on 1146 values.'"
      ]
     },
     "execution_count": 107,
     "metadata": {},
     "output_type": "execute_result"
    }
   ],
   "source": [
    "reduce_Xs = Xs.iloc[:, np.where((Xs.sum() > 20) == True)[0]]\n",
    "X_train, X_test, y_train, y_test = train_test_split(reduce_Xs, ys, test_size = .30, random_state=42) \n",
    "lm_model = LinearRegression(normalize=True) # Instantiate\n",
    "lm_model.fit(X_train, y_train) #Fit\n",
    "        \n",
    "#Predict and score the model\n",
    "y_test_preds = lm_model.predict(X_test) \n",
    "\"The r-squared score for the model using only quantitative variables was {} on {} values.\".format(r2_score(y_test, y_test_preds), len(y_test))"
   ]
  },
  {
   "cell_type": "code",
   "execution_count": 108,
   "metadata": {},
   "outputs": [
    {
     "data": {
      "text/html": [
       "<div>\n",
       "<style scoped>\n",
       "    .dataframe tbody tr th:only-of-type {\n",
       "        vertical-align: middle;\n",
       "    }\n",
       "\n",
       "    .dataframe tbody tr th {\n",
       "        vertical-align: top;\n",
       "    }\n",
       "\n",
       "    .dataframe thead th {\n",
       "        text-align: right;\n",
       "    }\n",
       "</style>\n",
       "<table border=\"1\" class=\"dataframe\">\n",
       "  <thead>\n",
       "    <tr style=\"text-align: right;\">\n",
       "      <th></th>\n",
       "      <th>est_int</th>\n",
       "      <th>coefs</th>\n",
       "      <th>abs_coefs</th>\n",
       "    </tr>\n",
       "  </thead>\n",
       "  <tbody>\n",
       "    <tr>\n",
       "      <th>10</th>\n",
       "      <td>review_scores_value</td>\n",
       "      <td>3.000368</td>\n",
       "      <td>3.000368</td>\n",
       "    </tr>\n",
       "    <tr>\n",
       "      <th>14</th>\n",
       "      <td>review_scores_cleanliness</td>\n",
       "      <td>1.947019</td>\n",
       "      <td>1.947019</td>\n",
       "    </tr>\n",
       "    <tr>\n",
       "      <th>15</th>\n",
       "      <td>review_scores_accuracy</td>\n",
       "      <td>1.911180</td>\n",
       "      <td>1.911180</td>\n",
       "    </tr>\n",
       "    <tr>\n",
       "      <th>21</th>\n",
       "      <td>host_has_profile_pic_t</td>\n",
       "      <td>-1.703535</td>\n",
       "      <td>1.703535</td>\n",
       "    </tr>\n",
       "    <tr>\n",
       "      <th>25</th>\n",
       "      <td>bed_type_Futon</td>\n",
       "      <td>-1.334128</td>\n",
       "      <td>1.334128</td>\n",
       "    </tr>\n",
       "    <tr>\n",
       "      <th>12</th>\n",
       "      <td>review_scores_communication</td>\n",
       "      <td>1.315150</td>\n",
       "      <td>1.315150</td>\n",
       "    </tr>\n",
       "    <tr>\n",
       "      <th>26</th>\n",
       "      <td>bed_type_Pull-out Sofa</td>\n",
       "      <td>-1.068875</td>\n",
       "      <td>1.068875</td>\n",
       "    </tr>\n",
       "    <tr>\n",
       "      <th>13</th>\n",
       "      <td>review_scores_checkin</td>\n",
       "      <td>0.880702</td>\n",
       "      <td>0.880702</td>\n",
       "    </tr>\n",
       "    <tr>\n",
       "      <th>22</th>\n",
       "      <td>host_identity_verified_t</td>\n",
       "      <td>0.694309</td>\n",
       "      <td>0.694309</td>\n",
       "    </tr>\n",
       "    <tr>\n",
       "      <th>11</th>\n",
       "      <td>review_scores_location</td>\n",
       "      <td>0.683894</td>\n",
       "      <td>0.683894</td>\n",
       "    </tr>\n",
       "    <tr>\n",
       "      <th>2</th>\n",
       "      <td>host_acceptance_rate</td>\n",
       "      <td>-0.660394</td>\n",
       "      <td>0.660394</td>\n",
       "    </tr>\n",
       "    <tr>\n",
       "      <th>24</th>\n",
       "      <td>room_type_Shared room</td>\n",
       "      <td>0.471765</td>\n",
       "      <td>0.471765</td>\n",
       "    </tr>\n",
       "    <tr>\n",
       "      <th>16</th>\n",
       "      <td>cancellation_policy_moderate</td>\n",
       "      <td>-0.417547</td>\n",
       "      <td>0.417547</td>\n",
       "    </tr>\n",
       "    <tr>\n",
       "      <th>28</th>\n",
       "      <td>instant_bookable_t</td>\n",
       "      <td>-0.366597</td>\n",
       "      <td>0.366597</td>\n",
       "    </tr>\n",
       "    <tr>\n",
       "      <th>27</th>\n",
       "      <td>bed_type_Real Bed</td>\n",
       "      <td>-0.325168</td>\n",
       "      <td>0.325168</td>\n",
       "    </tr>\n",
       "    <tr>\n",
       "      <th>20</th>\n",
       "      <td>host_response_time_within an hour</td>\n",
       "      <td>0.300373</td>\n",
       "      <td>0.300373</td>\n",
       "    </tr>\n",
       "    <tr>\n",
       "      <th>23</th>\n",
       "      <td>room_type_Private room</td>\n",
       "      <td>0.215459</td>\n",
       "      <td>0.215459</td>\n",
       "    </tr>\n",
       "    <tr>\n",
       "      <th>9</th>\n",
       "      <td>reviews_per_month</td>\n",
       "      <td>-0.162685</td>\n",
       "      <td>0.162685</td>\n",
       "    </tr>\n",
       "    <tr>\n",
       "      <th>17</th>\n",
       "      <td>cancellation_policy_strict</td>\n",
       "      <td>-0.144837</td>\n",
       "      <td>0.144837</td>\n",
       "    </tr>\n",
       "    <tr>\n",
       "      <th>4</th>\n",
       "      <td>bathrooms</td>\n",
       "      <td>0.135726</td>\n",
       "      <td>0.135726</td>\n",
       "    </tr>\n",
       "  </tbody>\n",
       "</table>\n",
       "</div>"
      ],
      "text/plain": [
       "                              est_int     coefs  abs_coefs\n",
       "10                review_scores_value  3.000368   3.000368\n",
       "14          review_scores_cleanliness  1.947019   1.947019\n",
       "15             review_scores_accuracy  1.911180   1.911180\n",
       "21             host_has_profile_pic_t -1.703535   1.703535\n",
       "25                     bed_type_Futon -1.334128   1.334128\n",
       "12        review_scores_communication  1.315150   1.315150\n",
       "26             bed_type_Pull-out Sofa -1.068875   1.068875\n",
       "13              review_scores_checkin  0.880702   0.880702\n",
       "22           host_identity_verified_t  0.694309   0.694309\n",
       "11             review_scores_location  0.683894   0.683894\n",
       "2                host_acceptance_rate -0.660394   0.660394\n",
       "24              room_type_Shared room  0.471765   0.471765\n",
       "16       cancellation_policy_moderate -0.417547   0.417547\n",
       "28                 instant_bookable_t -0.366597   0.366597\n",
       "27                  bed_type_Real Bed -0.325168   0.325168\n",
       "20  host_response_time_within an hour  0.300373   0.300373\n",
       "23             room_type_Private room  0.215459   0.215459\n",
       "9                   reviews_per_month -0.162685   0.162685\n",
       "17         cancellation_policy_strict -0.144837   0.144837\n",
       "4                           bathrooms  0.135726   0.135726"
      ]
     },
     "execution_count": 108,
     "metadata": {},
     "output_type": "execute_result"
    }
   ],
   "source": [
    "coef_df = coef_weights(lm_model.coef_, X_train)\n",
    "\n",
    "#A quick look at the top results\n",
    "coef_df.head(20)"
   ]
  },
  {
   "cell_type": "code",
   "execution_count": null,
   "metadata": {},
   "outputs": [],
   "source": []
  }
 ],
 "metadata": {
  "kernelspec": {
   "display_name": "Python 3",
   "language": "python",
   "name": "python3"
  },
  "language_info": {
   "codemirror_mode": {
    "name": "ipython",
    "version": 3
   },
   "file_extension": ".py",
   "mimetype": "text/x-python",
   "name": "python",
   "nbconvert_exporter": "python",
   "pygments_lexer": "ipython3",
   "version": "3.6.2"
  }
 },
 "nbformat": 4,
 "nbformat_minor": 2
}
